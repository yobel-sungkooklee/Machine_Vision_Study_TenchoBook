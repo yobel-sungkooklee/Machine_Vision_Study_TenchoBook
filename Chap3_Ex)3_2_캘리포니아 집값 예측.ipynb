{
  "cells": [
    {
      "cell_type": "markdown",
      "metadata": {
        "id": "9MMYkhu2jFCV"
      },
      "source": [
        "보스턴 데이터셋의 특징 출력"
      ]
    },
    {
      "cell_type": "code",
      "execution_count": 1,
      "metadata": {
        "colab": {
          "base_uri": "https://localhost:8080/"
        },
        "id": "HvINItE3jKac",
        "outputId": "fae0d0d9-2ea3-4fe8-eadc-533620f574a6"
      },
      "outputs": [
        {
          "name": "stdout",
          "output_type": "stream",
          "text": [
            "dict_keys(['data', 'target', 'frame', 'target_names', 'feature_names', 'DESCR'])\n"
          ]
        }
      ],
      "source": [
        "from sklearn.datasets import fetch_california_housing\n",
        "\n",
        "# 경고 무시\n",
        "import warnings\n",
        "warnings.filterwarnings('ignore')\n",
        "\n",
        "dataset = fetch_california_housing() # 데이터셋을 불러옴\n",
        "print(dataset.keys())   # 데이터셋의 키(요소들의 이름)를 출력"
      ]
    },
    {
      "cell_type": "markdown",
      "metadata": {
        "id": "YTX7aBnO5h71"
      },
      "source": [
        "# 데이터의 구성요소 확인"
      ]
    },
    {
      "cell_type": "code",
      "execution_count": 2,
      "metadata": {
        "colab": {
          "base_uri": "https://localhost:8080/"
        },
        "id": "JD50UWMYjMeR",
        "outputId": "bca557c2-205b-4b55-fe42-85ac6c049674"
      },
      "outputs": [
        {
          "name": "stdout",
          "output_type": "stream",
          "text": [
            "   MedInc  HouseAge  AveRooms  AveBedrms  Population  AveOccup  Latitude  \\\n",
            "0  8.3252      41.0  6.984127   1.023810       322.0  2.555556     37.88   \n",
            "1  8.3014      21.0  6.238137   0.971880      2401.0  2.109842     37.86   \n",
            "2  7.2574      52.0  8.288136   1.073446       496.0  2.802260     37.85   \n",
            "3  5.6431      52.0  5.817352   1.073059       558.0  2.547945     37.85   \n",
            "4  3.8462      52.0  6.281853   1.081081       565.0  2.181467     37.85   \n",
            "\n",
            "   Longitude  target  \n",
            "0    -122.23   4.526  \n",
            "1    -122.22   3.585  \n",
            "2    -122.24   3.521  \n",
            "3    -122.25   3.413  \n",
            "4    -122.25   3.422  \n"
          ]
        }
      ],
      "source": [
        "import pandas as pd\n",
        "\n",
        "from sklearn.datasets import fetch_california_housing\n",
        "\n",
        "dataset = fetch_california_housing()\n",
        "dataFrame = pd.DataFrame(dataset[\"data\"]) # ❶ 데이터셋의 데이터 불러오기\n",
        "dataFrame.columns = dataset[\"feature_names\"] # ❷ 특징의 이름 불러오기\n",
        "dataFrame[\"target\"] = dataset[\"target\"] # ❸ 데이터 프레임에 정답을 추가\n",
        "\n",
        "print(dataFrame.head()) # ➍ 데이터프레임을 요약해서 출력"
      ]
    },
    {
      "cell_type": "markdown",
      "metadata": {
        "id": "8eDsBBv25txN"
      },
      "source": [
        "# 선형회귀를 위한 MLP모델의 설계"
      ]
    },
    {
      "cell_type": "code",
      "execution_count": null,
      "metadata": {
        "colab": {
          "base_uri": "https://localhost:8080/"
        },
        "id": "lMR8ZUMgGMtx",
        "outputId": "75022993-1cf1-4bec-b405-8ffdfb8897d8"
      },
      "outputs": [
        {
          "name": "stdout",
          "output_type": "stream",
          "text": [
            "epoch0 loss:63.797157287597656\n",
            "epoch20 loss:45.051475524902344\n",
            "epoch40 loss:40.557090759277344\n",
            "epoch60 loss:39.79398727416992\n",
            "epoch80 loss:39.45023727416992\n",
            "epoch100 loss:39.383544921875\n",
            "epoch120 loss:39.04169845581055\n",
            "epoch140 loss:38.85562515258789\n",
            "epoch160 loss:38.72293472290039\n",
            "epoch180 loss:38.49763488769531\n"
          ]
        }
      ],
      "source": [
        "import torch\n",
        "import torch.nn as nn\n",
        "\n",
        "from torch.optim.adam import Adam\n",
        "\n",
        "\n",
        "# ❶ 모델 정의\n",
        "model = nn.Sequential(\n",
        "   nn.Linear(13, 100),\n",
        "   nn.ReLU(),\n",
        "   nn.Linear(100, 1)\n",
        ")\n",
        "\n",
        "X = dataFrame.iloc[:, :13].values # ❷ 정답을 제외한 특징을 X에 입력\n",
        "Y = dataFrame[\"target\"].values    # 데이터프레임의 target의 값을 추출\n",
        "\n",
        "batch_size = 100\n",
        "learning_rate = 0.001\n",
        "\n",
        "# ❸ 가중치를 수정하기 위한 최적화 정의\n",
        "optim = Adam(model.parameters(), lr=learning_rate)\n",
        "\n",
        "\n",
        "# 에포크 반복\n",
        "for epoch in range(200):\n",
        "\n",
        "   # 배치 반복\n",
        "   for i in range(len(X)//batch_size):\n",
        "       start = i*batch_size      # ➍ 배치 크기에 맞게 인덱스를 지정\n",
        "       end = start + batch_size\n",
        "\n",
        "\n",
        "       # 파이토치 실수형 텐서로 변환\n",
        "       x = torch.FloatTensor(X[start:end])\n",
        "       y = torch.FloatTensor(Y[start:end])\n",
        "\n",
        "       optim.zero_grad() # ❺ 가중치의 기울기를 0으로 초기화\n",
        "       preds = model(x)  # ❻ 모델의 예측값 계산\n",
        "       loss = nn.MSELoss()(preds, y) # ❼ MSE 손실 계산\n",
        "       loss.backward()\n",
        "       optim.step()\n",
        "\n",
        "   if epoch % 20 == 0:\n",
        "       print(f\"epoch{epoch} loss:{loss.item()}\")"
      ]
    },
    {
      "cell_type": "markdown",
      "metadata": {
        "id": "t7AwM6xv555d"
      },
      "source": [
        "# 모델 성능 평가"
      ]
    },
    {
      "cell_type": "code",
      "execution_count": null,
      "metadata": {
        "colab": {
          "base_uri": "https://localhost:8080/"
        },
        "id": "Ld-C77xDJkKW",
        "outputId": "b7c677cc-8ca7-4a41-bf37-3c53cda15a11"
      },
      "outputs": [
        {
          "name": "stdout",
          "output_type": "stream",
          "text": [
            "prediction:25.561281204223633 real:24.0\n"
          ]
        }
      ],
      "source": [
        "prediction = model(torch.FloatTensor(X[0, :13]))\n",
        "real = Y[0]\n",
        "print(f\"prediction:{prediction.item()} real:{real}\")"
      ]
    },
    {
      "cell_type": "code",
      "execution_count": null,
      "metadata": {
        "id": "14kmJev_kXWq"
      },
      "outputs": [],
      "source": []
    }
  ],
  "metadata": {
    "colab": {
      "provenance": []
    },
    "kernelspec": {
      "display_name": "Pytorch",
      "language": "python",
      "name": "python3"
    },
    "language_info": {
      "codemirror_mode": {
        "name": "ipython",
        "version": 3
      },
      "file_extension": ".py",
      "mimetype": "text/x-python",
      "name": "python",
      "nbconvert_exporter": "python",
      "pygments_lexer": "ipython3",
      "version": "3.12.8"
    }
  },
  "nbformat": 4,
  "nbformat_minor": 0
}
