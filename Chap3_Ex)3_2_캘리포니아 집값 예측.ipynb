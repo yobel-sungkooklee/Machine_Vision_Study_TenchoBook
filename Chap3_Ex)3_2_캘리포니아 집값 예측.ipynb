{
  "cells": [
    {
      "cell_type": "markdown",
      "metadata": {
        "id": "9MMYkhu2jFCV"
      },
      "source": [
        "보스턴 데이터셋의 특징 출력"
      ]
    },
    {
      "cell_type": "code",
      "execution_count": 1,
      "metadata": {
        "colab": {
          "base_uri": "https://localhost:8080/"
        },
        "id": "HvINItE3jKac",
        "outputId": "fae0d0d9-2ea3-4fe8-eadc-533620f574a6"
      },
      "outputs": [
        {
          "ename": "ImportError",
          "evalue": "\n`load_boston` has been removed from scikit-learn since version 1.2.\n\nThe Boston housing prices dataset has an ethical problem: as\ninvestigated in [1], the authors of this dataset engineered a\nnon-invertible variable \"B\" assuming that racial self-segregation had a\npositive impact on house prices [2]. Furthermore the goal of the\nresearch that led to the creation of this dataset was to study the\nimpact of air quality but it did not give adequate demonstration of the\nvalidity of this assumption.\n\nThe scikit-learn maintainers therefore strongly discourage the use of\nthis dataset unless the purpose of the code is to study and educate\nabout ethical issues in data science and machine learning.\n\nIn this special case, you can fetch the dataset from the original\nsource::\n\n    import pandas as pd\n    import numpy as np\n\n    data_url = \"http://lib.stat.cmu.edu/datasets/boston\"\n    raw_df = pd.read_csv(data_url, sep=\"\\s+\", skiprows=22, header=None)\n    data = np.hstack([raw_df.values[::2, :], raw_df.values[1::2, :2]])\n    target = raw_df.values[1::2, 2]\n\nAlternative datasets include the California housing dataset and the\nAmes housing dataset. You can load the datasets as follows::\n\n    from sklearn.datasets import fetch_california_housing\n    housing = fetch_california_housing()\n\nfor the California housing dataset and::\n\n    from sklearn.datasets import fetch_openml\n    housing = fetch_openml(name=\"house_prices\", as_frame=True)\n\nfor the Ames housing dataset.\n\n[1] M Carlisle.\n\"Racist data destruction?\"\n<https://medium.com/@docintangible/racist-data-destruction-113e3eff54a8>\n\n[2] Harrison Jr, David, and Daniel L. Rubinfeld.\n\"Hedonic housing prices and the demand for clean air.\"\nJournal of environmental economics and management 5.1 (1978): 81-102.\n<https://www.researchgate.net/publication/4974606_Hedonic_housing_prices_and_the_demand_for_clean_air>\n",
          "output_type": "error",
          "traceback": [
            "\u001b[1;31m---------------------------------------------------------------------------\u001b[0m",
            "\u001b[1;31mImportError\u001b[0m                               Traceback (most recent call last)",
            "Cell \u001b[1;32mIn[1], line 1\u001b[0m\n\u001b[1;32m----> 1\u001b[0m \u001b[38;5;28;01mfrom\u001b[39;00m \u001b[38;5;21;01msklearn\u001b[39;00m\u001b[38;5;21;01m.\u001b[39;00m\u001b[38;5;21;01mdatasets\u001b[39;00m \u001b[38;5;28;01mimport\u001b[39;00m load_boston\n\u001b[0;32m      3\u001b[0m \u001b[38;5;66;03m# 경고 무시\u001b[39;00m\n\u001b[0;32m      4\u001b[0m \u001b[38;5;28;01mimport\u001b[39;00m \u001b[38;5;21;01mwarnings\u001b[39;00m\n",
            "File \u001b[1;32mc:\\Users\\yobellee\\anaconda3\\envs\\Pytorch\\Lib\\site-packages\\sklearn\\datasets\\__init__.py:161\u001b[0m, in \u001b[0;36m__getattr__\u001b[1;34m(name)\u001b[0m\n\u001b[0;32m    110\u001b[0m \u001b[38;5;28;01mif\u001b[39;00m name \u001b[38;5;241m==\u001b[39m \u001b[38;5;124m\"\u001b[39m\u001b[38;5;124mload_boston\u001b[39m\u001b[38;5;124m\"\u001b[39m:\n\u001b[0;32m    111\u001b[0m     msg \u001b[38;5;241m=\u001b[39m textwrap\u001b[38;5;241m.\u001b[39mdedent(\n\u001b[0;32m    112\u001b[0m \u001b[38;5;250m        \u001b[39m\u001b[38;5;124;03m\"\"\"\u001b[39;00m\n\u001b[0;32m    113\u001b[0m \u001b[38;5;124;03m        `load_boston` has been removed from scikit-learn since version 1.2.\u001b[39;00m\n\u001b[1;32m   (...)\u001b[0m\n\u001b[0;32m    159\u001b[0m \u001b[38;5;124;03m        \"\"\"\u001b[39;00m\n\u001b[0;32m    160\u001b[0m     )\n\u001b[1;32m--> 161\u001b[0m     \u001b[38;5;28;01mraise\u001b[39;00m \u001b[38;5;167;01mImportError\u001b[39;00m(msg)\n\u001b[0;32m    162\u001b[0m \u001b[38;5;28;01mtry\u001b[39;00m:\n\u001b[0;32m    163\u001b[0m     \u001b[38;5;28;01mreturn\u001b[39;00m \u001b[38;5;28mglobals\u001b[39m()[name]\n",
            "\u001b[1;31mImportError\u001b[0m: \n`load_boston` has been removed from scikit-learn since version 1.2.\n\nThe Boston housing prices dataset has an ethical problem: as\ninvestigated in [1], the authors of this dataset engineered a\nnon-invertible variable \"B\" assuming that racial self-segregation had a\npositive impact on house prices [2]. Furthermore the goal of the\nresearch that led to the creation of this dataset was to study the\nimpact of air quality but it did not give adequate demonstration of the\nvalidity of this assumption.\n\nThe scikit-learn maintainers therefore strongly discourage the use of\nthis dataset unless the purpose of the code is to study and educate\nabout ethical issues in data science and machine learning.\n\nIn this special case, you can fetch the dataset from the original\nsource::\n\n    import pandas as pd\n    import numpy as np\n\n    data_url = \"http://lib.stat.cmu.edu/datasets/boston\"\n    raw_df = pd.read_csv(data_url, sep=\"\\s+\", skiprows=22, header=None)\n    data = np.hstack([raw_df.values[::2, :], raw_df.values[1::2, :2]])\n    target = raw_df.values[1::2, 2]\n\nAlternative datasets include the California housing dataset and the\nAmes housing dataset. You can load the datasets as follows::\n\n    from sklearn.datasets import fetch_california_housing\n    housing = fetch_california_housing()\n\nfor the California housing dataset and::\n\n    from sklearn.datasets import fetch_openml\n    housing = fetch_openml(name=\"house_prices\", as_frame=True)\n\nfor the Ames housing dataset.\n\n[1] M Carlisle.\n\"Racist data destruction?\"\n<https://medium.com/@docintangible/racist-data-destruction-113e3eff54a8>\n\n[2] Harrison Jr, David, and Daniel L. Rubinfeld.\n\"Hedonic housing prices and the demand for clean air.\"\nJournal of environmental economics and management 5.1 (1978): 81-102.\n<https://www.researchgate.net/publication/4974606_Hedonic_housing_prices_and_the_demand_for_clean_air>\n"
          ]
        }
      ],
      "source": [
        "from sklearn.datasets import load_boston\n",
        "\n",
        "# 경고 무시\n",
        "import warnings\n",
        "warnings.filterwarnings('ignore')\n",
        "\n",
        "dataset = load_boston() # 데이터셋을 불러옴\n",
        "print(dataset.keys())   # 데이터셋의 키(요소들의 이름)를 출력"
      ]
    },
    {
      "cell_type": "markdown",
      "metadata": {
        "id": "YTX7aBnO5h71"
      },
      "source": [
        "# 데이터의 구성요소 확인"
      ]
    },
    {
      "cell_type": "code",
      "execution_count": null,
      "metadata": {
        "colab": {
          "base_uri": "https://localhost:8080/"
        },
        "id": "JD50UWMYjMeR",
        "outputId": "bca557c2-205b-4b55-fe42-85ac6c049674"
      },
      "outputs": [
        {
          "name": "stdout",
          "output_type": "stream",
          "text": [
            "      CRIM    ZN  INDUS  CHAS    NOX     RM   AGE     DIS  RAD    TAX  \\\n",
            "0  0.00632  18.0   2.31   0.0  0.538  6.575  65.2  4.0900  1.0  296.0   \n",
            "1  0.02731   0.0   7.07   0.0  0.469  6.421  78.9  4.9671  2.0  242.0   \n",
            "2  0.02729   0.0   7.07   0.0  0.469  7.185  61.1  4.9671  2.0  242.0   \n",
            "3  0.03237   0.0   2.18   0.0  0.458  6.998  45.8  6.0622  3.0  222.0   \n",
            "4  0.06905   0.0   2.18   0.0  0.458  7.147  54.2  6.0622  3.0  222.0   \n",
            "\n",
            "   PTRATIO       B  LSTAT  target  \n",
            "0     15.3  396.90   4.98    24.0  \n",
            "1     17.8  396.90   9.14    21.6  \n",
            "2     17.8  392.83   4.03    34.7  \n",
            "3     18.7  394.63   2.94    33.4  \n",
            "4     18.7  396.90   5.33    36.2  \n"
          ]
        }
      ],
      "source": [
        "import pandas as pd\n",
        "\n",
        "from sklearn.datasets import load_boston\n",
        "\n",
        "dataset = load_boston()\n",
        "dataFrame = pd.DataFrame(dataset[\"data\"]) # ❶ 데이터셋의 데이터 불러오기\n",
        "dataFrame.columns = dataset[\"feature_names\"] # ❷ 특징의 이름 불러오기\n",
        "dataFrame[\"target\"] = dataset[\"target\"] # ❸ 데이터 프레임에 정답을 추가\n",
        "\n",
        "print(dataFrame.head()) # ➍ 데이터프레임을 요약해서 출력"
      ]
    },
    {
      "cell_type": "markdown",
      "metadata": {
        "id": "8eDsBBv25txN"
      },
      "source": [
        "# 선형회귀를 위한 MLP모델의 설계"
      ]
    },
    {
      "cell_type": "code",
      "execution_count": null,
      "metadata": {
        "colab": {
          "base_uri": "https://localhost:8080/"
        },
        "id": "lMR8ZUMgGMtx",
        "outputId": "75022993-1cf1-4bec-b405-8ffdfb8897d8"
      },
      "outputs": [
        {
          "name": "stdout",
          "output_type": "stream",
          "text": [
            "epoch0 loss:63.797157287597656\n",
            "epoch20 loss:45.051475524902344\n",
            "epoch40 loss:40.557090759277344\n",
            "epoch60 loss:39.79398727416992\n",
            "epoch80 loss:39.45023727416992\n",
            "epoch100 loss:39.383544921875\n",
            "epoch120 loss:39.04169845581055\n",
            "epoch140 loss:38.85562515258789\n",
            "epoch160 loss:38.72293472290039\n",
            "epoch180 loss:38.49763488769531\n"
          ]
        }
      ],
      "source": [
        "import torch\n",
        "import torch.nn as nn\n",
        "\n",
        "from torch.optim.adam import Adam\n",
        "\n",
        "\n",
        "# ❶ 모델 정의\n",
        "model = nn.Sequential(\n",
        "   nn.Linear(13, 100),\n",
        "   nn.ReLU(),\n",
        "   nn.Linear(100, 1)\n",
        ")\n",
        "\n",
        "X = dataFrame.iloc[:, :13].values # ❷ 정답을 제외한 특징을 X에 입력\n",
        "Y = dataFrame[\"target\"].values    # 데이터프레임의 target의 값을 추출\n",
        "\n",
        "batch_size = 100\n",
        "learning_rate = 0.001\n",
        "\n",
        "# ❸ 가중치를 수정하기 위한 최적화 정의\n",
        "optim = Adam(model.parameters(), lr=learning_rate)\n",
        "\n",
        "\n",
        "# 에포크 반복\n",
        "for epoch in range(200):\n",
        "\n",
        "   # 배치 반복\n",
        "   for i in range(len(X)//batch_size):\n",
        "       start = i*batch_size      # ➍ 배치 크기에 맞게 인덱스를 지정\n",
        "       end = start + batch_size\n",
        "\n",
        "\n",
        "       # 파이토치 실수형 텐서로 변환\n",
        "       x = torch.FloatTensor(X[start:end])\n",
        "       y = torch.FloatTensor(Y[start:end])\n",
        "\n",
        "       optim.zero_grad() # ❺ 가중치의 기울기를 0으로 초기화\n",
        "       preds = model(x)  # ❻ 모델의 예측값 계산\n",
        "       loss = nn.MSELoss()(preds, y) # ❼ MSE 손실 계산\n",
        "       loss.backward()\n",
        "       optim.step()\n",
        "\n",
        "   if epoch % 20 == 0:\n",
        "       print(f\"epoch{epoch} loss:{loss.item()}\")"
      ]
    },
    {
      "cell_type": "markdown",
      "metadata": {
        "id": "t7AwM6xv555d"
      },
      "source": [
        "# 모델 성능 평가"
      ]
    },
    {
      "cell_type": "code",
      "execution_count": null,
      "metadata": {
        "colab": {
          "base_uri": "https://localhost:8080/"
        },
        "id": "Ld-C77xDJkKW",
        "outputId": "b7c677cc-8ca7-4a41-bf37-3c53cda15a11"
      },
      "outputs": [
        {
          "name": "stdout",
          "output_type": "stream",
          "text": [
            "prediction:25.561281204223633 real:24.0\n"
          ]
        }
      ],
      "source": [
        "prediction = model(torch.FloatTensor(X[0, :13]))\n",
        "real = Y[0]\n",
        "print(f\"prediction:{prediction.item()} real:{real}\")"
      ]
    },
    {
      "cell_type": "code",
      "execution_count": null,
      "metadata": {
        "id": "14kmJev_kXWq"
      },
      "outputs": [],
      "source": []
    }
  ],
  "metadata": {
    "colab": {
      "provenance": []
    },
    "kernelspec": {
      "display_name": "Pytorch",
      "language": "python",
      "name": "python3"
    },
    "language_info": {
      "codemirror_mode": {
        "name": "ipython",
        "version": 3
      },
      "file_extension": ".py",
      "mimetype": "text/x-python",
      "name": "python",
      "nbconvert_exporter": "python",
      "pygments_lexer": "ipython3",
      "version": "3.12.8"
    }
  },
  "nbformat": 4,
  "nbformat_minor": 0
}
